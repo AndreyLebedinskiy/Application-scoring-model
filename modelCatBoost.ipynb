{
 "cells": [
  {
   "cell_type": "code",
   "execution_count": 1,
   "metadata": {},
   "outputs": [],
   "source": [
    "import pandas as pd\n",
    "import numpy as np\n",
    "from sklearn.model_selection import train_test_split"
   ]
  },
  {
   "cell_type": "code",
   "execution_count": 12,
   "metadata": {},
   "outputs": [],
   "source": [
    "X_train = pd.read_csv(\"extendedTrain.csv\")\n",
    "X_test = pd.read_csv(\"extendedTest.csv\")"
   ]
  },
  {
   "cell_type": "code",
   "execution_count": 3,
   "metadata": {},
   "outputs": [],
   "source": [
    "y_train = X_train['TARGET']\n",
    "X_train = X_train.drop('TARGET', axis=1)"
   ]
  },
  {
   "cell_type": "code",
   "execution_count": 4,
   "metadata": {},
   "outputs": [],
   "source": [
    "#all columns of type object\n",
    "categorical_features = X_train.select_dtypes('object')"
   ]
  },
  {
   "cell_type": "markdown",
   "metadata": {},
   "source": [
    "### CatBoost (framework of gradient boosting for solving the problem of losing the relationships between categories in categorical variables)"
   ]
  },
  {
   "cell_type": "code",
   "execution_count": 5,
   "metadata": {},
   "outputs": [],
   "source": [
    "#pip install catboost"
   ]
  },
  {
   "cell_type": "code",
   "execution_count": 6,
   "metadata": {},
   "outputs": [],
   "source": [
    "from catboost import CatBoostClassifier, cv, Pool"
   ]
  },
  {
   "cell_type": "code",
   "execution_count": 7,
   "metadata": {},
   "outputs": [],
   "source": [
    "cb_model = CatBoostClassifier(iterations=50, depth=3, learning_rate=0.1, loss_function='Logloss', eval_metric='AUC', random_seed=42)"
   ]
  },
  {
   "cell_type": "code",
   "execution_count": 8,
   "metadata": {},
   "outputs": [
    {
     "name": "stdout",
     "output_type": "stream",
     "text": [
      "0:\ttotal: 89.5ms\tremaining: 4.38s\n",
      "1:\ttotal: 112ms\tremaining: 2.68s\n",
      "2:\ttotal: 140ms\tremaining: 2.19s\n",
      "3:\ttotal: 164ms\tremaining: 1.89s\n",
      "4:\ttotal: 188ms\tremaining: 1.7s\n",
      "5:\ttotal: 216ms\tremaining: 1.58s\n",
      "6:\ttotal: 243ms\tremaining: 1.49s\n",
      "7:\ttotal: 269ms\tremaining: 1.41s\n",
      "8:\ttotal: 289ms\tremaining: 1.32s\n",
      "9:\ttotal: 323ms\tremaining: 1.29s\n",
      "10:\ttotal: 352ms\tremaining: 1.25s\n",
      "11:\ttotal: 381ms\tremaining: 1.21s\n",
      "12:\ttotal: 403ms\tremaining: 1.15s\n",
      "13:\ttotal: 433ms\tremaining: 1.11s\n",
      "14:\ttotal: 465ms\tremaining: 1.08s\n",
      "15:\ttotal: 494ms\tremaining: 1.05s\n",
      "16:\ttotal: 529ms\tremaining: 1.03s\n",
      "17:\ttotal: 552ms\tremaining: 982ms\n",
      "18:\ttotal: 589ms\tremaining: 961ms\n",
      "19:\ttotal: 623ms\tremaining: 934ms\n",
      "20:\ttotal: 648ms\tremaining: 895ms\n",
      "21:\ttotal: 671ms\tremaining: 853ms\n",
      "22:\ttotal: 695ms\tremaining: 816ms\n",
      "23:\ttotal: 724ms\tremaining: 784ms\n",
      "24:\ttotal: 751ms\tremaining: 751ms\n",
      "25:\ttotal: 780ms\tremaining: 720ms\n",
      "26:\ttotal: 803ms\tremaining: 684ms\n",
      "27:\ttotal: 828ms\tremaining: 650ms\n",
      "28:\ttotal: 852ms\tremaining: 617ms\n",
      "29:\ttotal: 880ms\tremaining: 586ms\n",
      "30:\ttotal: 905ms\tremaining: 555ms\n",
      "31:\ttotal: 948ms\tremaining: 533ms\n",
      "32:\ttotal: 1.01s\tremaining: 521ms\n",
      "33:\ttotal: 1.03s\tremaining: 486ms\n",
      "34:\ttotal: 1.06s\tremaining: 456ms\n",
      "35:\ttotal: 1.09s\tremaining: 424ms\n",
      "36:\ttotal: 1.12s\tremaining: 393ms\n",
      "37:\ttotal: 1.15s\tremaining: 362ms\n",
      "38:\ttotal: 1.17s\tremaining: 330ms\n",
      "39:\ttotal: 1.2s\tremaining: 299ms\n",
      "40:\ttotal: 1.22s\tremaining: 269ms\n",
      "41:\ttotal: 1.25s\tremaining: 238ms\n",
      "42:\ttotal: 1.29s\tremaining: 210ms\n",
      "43:\ttotal: 1.34s\tremaining: 183ms\n",
      "44:\ttotal: 1.42s\tremaining: 158ms\n",
      "45:\ttotal: 1.48s\tremaining: 129ms\n",
      "46:\ttotal: 1.55s\tremaining: 99ms\n",
      "47:\ttotal: 1.61s\tremaining: 67.3ms\n",
      "48:\ttotal: 1.65s\tremaining: 33.7ms\n",
      "49:\ttotal: 1.69s\tremaining: 0us\n"
     ]
    },
    {
     "data": {
      "text/plain": [
       "<catboost.core.CatBoostClassifier at 0x1232288e0>"
      ]
     },
     "execution_count": 8,
     "metadata": {},
     "output_type": "execute_result"
    }
   ],
   "source": [
    "cb_model.fit(X_train, y_train)"
   ]
  },
  {
   "cell_type": "code",
   "execution_count": 9,
   "metadata": {},
   "outputs": [],
   "source": [
    "predictions = cb_model.predict_proba(X_test[X_train.columns])[:, 1]"
   ]
  },
  {
   "cell_type": "code",
   "execution_count": 10,
   "metadata": {},
   "outputs": [],
   "source": [
    "output = pd.DataFrame({'SK_ID_CURR': X_test['SK_ID_CURR'].astype(int), 'TARGET': predictions})\n",
    "output.to_csv('OUTPUT_Cat.csv', index=False)"
   ]
  }
 ],
 "metadata": {
  "kernelspec": {
   "display_name": "Python 3",
   "language": "python",
   "name": "python3"
  },
  "language_info": {
   "codemirror_mode": {
    "name": "ipython",
    "version": 3
   },
   "file_extension": ".py",
   "mimetype": "text/x-python",
   "name": "python",
   "nbconvert_exporter": "python",
   "pygments_lexer": "ipython3",
   "version": "3.9.6"
  }
 },
 "nbformat": 4,
 "nbformat_minor": 2
}
